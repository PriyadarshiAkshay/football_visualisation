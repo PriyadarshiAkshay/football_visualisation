{
 "cells": [
  {
   "cell_type": "code",
   "execution_count": 1,
   "metadata": {},
   "outputs": [
    {
     "name": "stdout",
     "output_type": "stream",
     "text": [
      "Figures will be saved in figures_/\n",
      "Centralisation index is  0.19375\n"
     ]
    }
   ],
   "source": [
    "from pass_analysis import PassAnalysis as PA\n",
    "\n",
    "# Setting the team and opponent names\n",
    "team_name = \"Germany\"\n",
    "opponent_name = \"Sweden\"#None\n",
    "offensive_passes = True\n",
    "include_passes = True\n",
    "figures_folder = \"figures/\"\n",
    "\n",
    "# Initialise the PassAnalysis class\n",
    "PA = PA(team_name, opponent_name, offensive_passes, include_passes, figures_folder)\n",
    "\n",
    "# Load and analyse the data\n",
    "PA.load_and_analyse_data()\n",
    "\n",
    "# Plot the shots\n",
    "PA.plot_shots()\n",
    "\n",
    "# Plot the passes\n",
    "PA.plot_passes()\n",
    "\n",
    "# Plot the pass network\n",
    "df_pass=PA.plot_pass_network()\n",
    "\n",
    "# Calculate the centralisation index\n",
    "PA.centralisation_index(df_pass)\n",
    "\n",
    "# Plot the passing scatterplot\n",
    "PA.passing_scatterplot()\n",
    "\n",
    "# Plot the passes gif\n",
    "PA.plot_passes_gif()"
   ]
  },
  {
   "cell_type": "code",
   "execution_count": null,
   "metadata": {},
   "outputs": [],
   "source": []
  }
 ],
 "metadata": {
  "kernelspec": {
   "display_name": "base",
   "language": "python",
   "name": "python3"
  },
  "language_info": {
   "codemirror_mode": {
    "name": "ipython",
    "version": 3
   },
   "file_extension": ".py",
   "mimetype": "text/x-python",
   "name": "python",
   "nbconvert_exporter": "python",
   "pygments_lexer": "ipython3",
   "version": "3.12.2"
  }
 },
 "nbformat": 4,
 "nbformat_minor": 2
}
