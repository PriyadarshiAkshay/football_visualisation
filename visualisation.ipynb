{
 "cells": [
  {
   "cell_type": "code",
   "execution_count": null,
   "metadata": {},
   "outputs": [],
   "source": [
    "# Loading the teams data\n",
    "import pandas as pd\n",
    "import json\n",
    "path='teams.json'\n",
    "\n",
    "#For JSON datasets:\n",
    "with open(path) as f:\n",
    "    data = json.load(f)\n",
    "\n",
    "df = pd.DataFrame(data)\n",
    "#For CSV:\n",
    "#df = pd.read_csv('df.csv')"
   ]
  },
  {
   "cell_type": "code",
   "execution_count": null,
   "metadata": {},
   "outputs": [],
   "source": [
    "# Loading the matches data\n",
    "import pandas as pd\n",
    "import json\n",
    "path_matches='matches_World_Cup.json'\n",
    "\n",
    "#For JSON datasets:\n",
    "with open(path_matches) as f:\n",
    "    data = json.load(f)\n",
    "\n",
    "df_matches = pd.DataFrame(data)\n",
    "\n",
    "# Selecting the matches of the Polish team. Their team ID is 13869\n",
    "polish_matches = df_matches[df_matches['teamsData'].apply(lambda x: '13869' in x.keys())]\n",
    "polish_matches_list = list(polish_matches.wyId)\n"
   ]
  },
  {
   "cell_type": "code",
   "execution_count": null,
   "metadata": {},
   "outputs": [],
   "source": [
    "# Loading the players data\n",
    "path_players = 'players.json'\n",
    "with open(path_players,encoding='iso8859_2') as f:\n",
    "    data = json.load(f)\n",
    "\n",
    "players_world_cup = pd.DataFrame(data)\n",
    "polish_players_wc = players_world_cup[players_world_cup['passportArea'].apply(lambda x: x['name'])=='Poland']\n",
    "\n",
    "polish_players_wc = polish_players_wc[['shortName','wyId','foot','lastName']].rename(columns={'wyId':'playerId'})"
   ]
  },
  {
   "cell_type": "code",
   "execution_count": null,
   "metadata": {},
   "outputs": [],
   "source": []
  },
  {
   "cell_type": "markdown",
   "metadata": {},
   "source": [
    "Data from: Pappalardo, Luca; Massucco, Emanuele (2019). Soccer match event dataset. figshare. Collection. https://doi.org/10.6084/m9.figshare.c.4415000.v5\n",
    "\n",
    "Visualisation guide: Maciej Gieparda"
   ]
  }
 ],
 "metadata": {
  "language_info": {
   "name": "python"
  }
 },
 "nbformat": 4,
 "nbformat_minor": 2
}
